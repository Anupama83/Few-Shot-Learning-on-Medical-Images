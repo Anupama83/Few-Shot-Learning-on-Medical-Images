{
  "nbformat": 4,
  "nbformat_minor": 0,
  "metadata": {
    "colab": {
      "provenance": [],
      "authorship_tag": "ABX9TyOnf4CKcAlxpw/pF5PrLC4a",
      "include_colab_link": true
    },
    "kernelspec": {
      "name": "python3",
      "display_name": "Python 3"
    },
    "language_info": {
      "name": "python"
    }
  },
  "cells": [
    {
      "cell_type": "markdown",
      "metadata": {
        "id": "view-in-github",
        "colab_type": "text"
      },
      "source": [
        "<a href=\"https://colab.research.google.com/github/Anupama83/Few-Shot-Learning-on-Medical-Images/blob/main/02_PyTorch_Neural_Network_Classification_Udemy3.ipynb\" target=\"_parent\"><img src=\"https://colab.research.google.com/assets/colab-badge.svg\" alt=\"Open In Colab\"/></a>"
      ]
    },
    {
      "cell_type": "markdown",
      "source": [
        "# What we're going to see\n",
        "1. Architecture of a neural network classification model\n",
        "2. Input shapes and output shaoes of a classification model (features and labels)\n",
        "3. Creating custom data to view, fit on and predict on\n",
        "4. Steps in modelling\n",
        "  * Creating a model, setting a loss function and optimiser, creating a training loop, evaluating a model.\n",
        "5. Saving and loading models\n",
        "6. Harnessing the power of non-linearity\n",
        "7. Different classification evaluation methods"
      ],
      "metadata": {
        "id": "mHk3DW75JO-o"
      }
    },
    {
      "cell_type": "markdown",
      "source": [
        "# Batch Size Tweet:\n",
        "\n",
        "https://x.com/ylecun/status/989610208497360896?lang=en\n",
        "\n",
        "Batch_size = 32 means our machine learning model looks at 32 images at a time."
      ],
      "metadata": {
        "id": "QSybiYdhRIl6"
      }
    },
    {
      "cell_type": "markdown",
      "source": [
        "# Making a Toy Classification Dataset\n"
      ],
      "metadata": {
        "id": "jgZm2itHR4QI"
      }
    },
    {
      "cell_type": "code",
      "execution_count": null,
      "metadata": {
        "id": "z4yps5ymPxEI"
      },
      "outputs": [],
      "source": [
        "\n"
      ]
    }
  ]
}